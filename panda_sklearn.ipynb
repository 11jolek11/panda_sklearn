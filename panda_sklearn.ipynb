{
  "nbformat": 4,
  "nbformat_minor": 0,
  "metadata": {
    "colab": {
      "provenance": [],
      "include_colab_link": true
    },
    "kernelspec": {
      "name": "python3",
      "display_name": "Python 3"
    },
    "language_info": {
      "name": "python"
    }
  },
  "cells": [
    {
      "cell_type": "markdown",
      "metadata": {
        "id": "view-in-github",
        "colab_type": "text"
      },
      "source": [
        "<a href=\"https://colab.research.google.com/github/11jolek11/panda_sklearn/blob/main/panda_sklearn.ipynb\" target=\"_parent\"><img src=\"https://colab.research.google.com/assets/colab-badge.svg\" alt=\"Open In Colab\"/></a>"
      ]
    },
    {
      "cell_type": "code",
      "execution_count": 1,
      "metadata": {
        "id": "QOAW8IJSbb2q"
      },
      "outputs": [],
      "source": [
        "import numpy as np\n",
        "import matplotlib.pyplot as plt\n",
        "import pandas as pd\n",
        "import seaborn as sns"
      ]
    },
    {
      "cell_type": "code",
      "source": [
        "df = sns.load_dataset('mpg').dropna()\n",
        "cechy = ['horsepower', 'mpg', 'cylinders']\n",
        "df = df[cechy]     # ładniej za pomocą funkcji pipe\n",
        "df.sample(5)"
      ],
      "metadata": {
        "colab": {
          "base_uri": "https://localhost:8080/",
          "height": 206
        },
        "id": "7x7gRA3vcgh7",
        "outputId": "26c8aaf3-ad5a-4cbb-be96-28ed3884b0bf"
      },
      "execution_count": 2,
      "outputs": [
        {
          "output_type": "execute_result",
          "data": {
            "text/plain": [
              "     horsepower   mpg  cylinders\n",
              "274       103.0  20.3          5\n",
              "369        88.0  34.0          4\n",
              "256       100.0  20.5          6\n",
              "27        210.0  11.0          8\n",
              "113       107.0  21.0          6"
            ],
            "text/html": [
              "\n",
              "  <div id=\"df-1fdd8ba2-551b-4ae0-ad4d-3097034b6dad\">\n",
              "    <div class=\"colab-df-container\">\n",
              "      <div>\n",
              "<style scoped>\n",
              "    .dataframe tbody tr th:only-of-type {\n",
              "        vertical-align: middle;\n",
              "    }\n",
              "\n",
              "    .dataframe tbody tr th {\n",
              "        vertical-align: top;\n",
              "    }\n",
              "\n",
              "    .dataframe thead th {\n",
              "        text-align: right;\n",
              "    }\n",
              "</style>\n",
              "<table border=\"1\" class=\"dataframe\">\n",
              "  <thead>\n",
              "    <tr style=\"text-align: right;\">\n",
              "      <th></th>\n",
              "      <th>horsepower</th>\n",
              "      <th>mpg</th>\n",
              "      <th>cylinders</th>\n",
              "    </tr>\n",
              "  </thead>\n",
              "  <tbody>\n",
              "    <tr>\n",
              "      <th>274</th>\n",
              "      <td>103.0</td>\n",
              "      <td>20.3</td>\n",
              "      <td>5</td>\n",
              "    </tr>\n",
              "    <tr>\n",
              "      <th>369</th>\n",
              "      <td>88.0</td>\n",
              "      <td>34.0</td>\n",
              "      <td>4</td>\n",
              "    </tr>\n",
              "    <tr>\n",
              "      <th>256</th>\n",
              "      <td>100.0</td>\n",
              "      <td>20.5</td>\n",
              "      <td>6</td>\n",
              "    </tr>\n",
              "    <tr>\n",
              "      <th>27</th>\n",
              "      <td>210.0</td>\n",
              "      <td>11.0</td>\n",
              "      <td>8</td>\n",
              "    </tr>\n",
              "    <tr>\n",
              "      <th>113</th>\n",
              "      <td>107.0</td>\n",
              "      <td>21.0</td>\n",
              "      <td>6</td>\n",
              "    </tr>\n",
              "  </tbody>\n",
              "</table>\n",
              "</div>\n",
              "      <button class=\"colab-df-convert\" onclick=\"convertToInteractive('df-1fdd8ba2-551b-4ae0-ad4d-3097034b6dad')\"\n",
              "              title=\"Convert this dataframe to an interactive table.\"\n",
              "              style=\"display:none;\">\n",
              "        \n",
              "  <svg xmlns=\"http://www.w3.org/2000/svg\" height=\"24px\"viewBox=\"0 0 24 24\"\n",
              "       width=\"24px\">\n",
              "    <path d=\"M0 0h24v24H0V0z\" fill=\"none\"/>\n",
              "    <path d=\"M18.56 5.44l.94 2.06.94-2.06 2.06-.94-2.06-.94-.94-2.06-.94 2.06-2.06.94zm-11 1L8.5 8.5l.94-2.06 2.06-.94-2.06-.94L8.5 2.5l-.94 2.06-2.06.94zm10 10l.94 2.06.94-2.06 2.06-.94-2.06-.94-.94-2.06-.94 2.06-2.06.94z\"/><path d=\"M17.41 7.96l-1.37-1.37c-.4-.4-.92-.59-1.43-.59-.52 0-1.04.2-1.43.59L10.3 9.45l-7.72 7.72c-.78.78-.78 2.05 0 2.83L4 21.41c.39.39.9.59 1.41.59.51 0 1.02-.2 1.41-.59l7.78-7.78 2.81-2.81c.8-.78.8-2.07 0-2.86zM5.41 20L4 18.59l7.72-7.72 1.47 1.35L5.41 20z\"/>\n",
              "  </svg>\n",
              "      </button>\n",
              "      \n",
              "  <style>\n",
              "    .colab-df-container {\n",
              "      display:flex;\n",
              "      flex-wrap:wrap;\n",
              "      gap: 12px;\n",
              "    }\n",
              "\n",
              "    .colab-df-convert {\n",
              "      background-color: #E8F0FE;\n",
              "      border: none;\n",
              "      border-radius: 50%;\n",
              "      cursor: pointer;\n",
              "      display: none;\n",
              "      fill: #1967D2;\n",
              "      height: 32px;\n",
              "      padding: 0 0 0 0;\n",
              "      width: 32px;\n",
              "    }\n",
              "\n",
              "    .colab-df-convert:hover {\n",
              "      background-color: #E2EBFA;\n",
              "      box-shadow: 0px 1px 2px rgba(60, 64, 67, 0.3), 0px 1px 3px 1px rgba(60, 64, 67, 0.15);\n",
              "      fill: #174EA6;\n",
              "    }\n",
              "\n",
              "    [theme=dark] .colab-df-convert {\n",
              "      background-color: #3B4455;\n",
              "      fill: #D2E3FC;\n",
              "    }\n",
              "\n",
              "    [theme=dark] .colab-df-convert:hover {\n",
              "      background-color: #434B5C;\n",
              "      box-shadow: 0px 1px 3px 1px rgba(0, 0, 0, 0.15);\n",
              "      filter: drop-shadow(0px 1px 2px rgba(0, 0, 0, 0.3));\n",
              "      fill: #FFFFFF;\n",
              "    }\n",
              "  </style>\n",
              "\n",
              "      <script>\n",
              "        const buttonEl =\n",
              "          document.querySelector('#df-1fdd8ba2-551b-4ae0-ad4d-3097034b6dad button.colab-df-convert');\n",
              "        buttonEl.style.display =\n",
              "          google.colab.kernel.accessAllowed ? 'block' : 'none';\n",
              "\n",
              "        async function convertToInteractive(key) {\n",
              "          const element = document.querySelector('#df-1fdd8ba2-551b-4ae0-ad4d-3097034b6dad');\n",
              "          const dataTable =\n",
              "            await google.colab.kernel.invokeFunction('convertToInteractive',\n",
              "                                                     [key], {});\n",
              "          if (!dataTable) return;\n",
              "\n",
              "          const docLinkHtml = 'Like what you see? Visit the ' +\n",
              "            '<a target=\"_blank\" href=https://colab.research.google.com/notebooks/data_table.ipynb>data table notebook</a>'\n",
              "            + ' to learn more about interactive tables.';\n",
              "          element.innerHTML = '';\n",
              "          dataTable['output_type'] = 'display_data';\n",
              "          await google.colab.output.renderOutput(dataTable, element);\n",
              "          const docLink = document.createElement('div');\n",
              "          docLink.innerHTML = docLinkHtml;\n",
              "          element.appendChild(docLink);\n",
              "        }\n",
              "      </script>\n",
              "    </div>\n",
              "  </div>\n",
              "  "
            ]
          },
          "metadata": {},
          "execution_count": 2
        }
      ]
    },
    {
      "cell_type": "code",
      "source": [
        "sns.pairplot(data = df, hue='cylinders')"
      ],
      "metadata": {
        "colab": {
          "base_uri": "https://localhost:8080/",
          "height": 391
        },
        "id": "AvkQGSCsco9U",
        "outputId": "cb8dc72d-4d73-449f-81d5-6adc77412920"
      },
      "execution_count": 3,
      "outputs": [
        {
          "output_type": "execute_result",
          "data": {
            "text/plain": [
              "<seaborn.axisgrid.PairGrid at 0x7fc0067dd520>"
            ]
          },
          "metadata": {},
          "execution_count": 3
        },
        {
          "output_type": "display_data",
          "data": {
            "text/plain": [
              "<Figure size 413.375x360 with 6 Axes>"
            ],
            "image/png": "[encoded data removed]"
          },
          "metadata": {
            "needs_background": "light"
          }
        }
      ]
    },
    {
      "cell_type": "code",
      "source": [
        "x_data = df['horsepower'].to_numpy()\n",
        "y_data = df['mpg'].to_numpy()"
      ],
      "metadata": {
        "id": "bikFF3wsicPG"
      },
      "execution_count": 4,
      "outputs": []
    },
    {
      "cell_type": "code",
      "source": [
        "from sklearn.linear_model import LinearRegression\n",
        "\n",
        "linreg = LinearRegression()\n",
        "linreg.fit(x_data.reshape(-1,1), y_data.reshape(-1,1))"
      ],
      "metadata": {
        "colab": {
          "base_uri": "https://localhost:8080/"
        },
        "id": "IS2KLmmJfyoP",
        "outputId": "7d74d58b-931b-4d96-f67b-2a2bb8ec2e51"
      },
      "execution_count": 5,
      "outputs": [
        {
          "output_type": "execute_result",
          "data": {
            "text/plain": [
              "LinearRegression()"
            ]
          },
          "metadata": {},
          "execution_count": 5
        }
      ]
    },
    {
      "cell_type": "code",
      "source": [
        "a, b = linreg.coef_, linreg.intercept_\n",
        "print(f'a = {a}\\nb={b}')"
      ],
      "metadata": {
        "colab": {
          "base_uri": "https://localhost:8080/"
        },
        "id": "n19geiV8iU3c",
        "outputId": "1c142b7e-b2e8-434a-c1cc-e653f203e1a0"
      },
      "execution_count": 6,
      "outputs": [
        {
          "output_type": "stream",
          "name": "stdout",
          "text": [
            "a = [[-0.15784473]]\n",
            "b=[39.93586102]\n"
          ]
        }
      ]
    },
    {
      "cell_type": "code",
      "source": [
        "x_test = np.linspace(x_data.min(), x_data.max(), num=300)\n",
        "y_pred = linreg.predict(x_test.reshape(-1,1))"
      ],
      "metadata": {
        "id": "Et9ogOmRkUmB"
      },
      "execution_count": 7,
      "outputs": []
    },
    {
      "cell_type": "code",
      "source": [
        "# from sklearn.preprocessing import StandardScaler, MinMaxScaler fit, transform\n",
        "plt.scatter(x_data,y_data, color='black', marker='.', label='dane')\n",
        "plt.plot(x_test, y_pred, color='tab:orange', linewidth=3, label='model liniowy')\n",
        "plt.legend()\n",
        "#plt.axis('square')\n",
        "plt.show()"
      ],
      "metadata": {
        "colab": {
          "base_uri": "https://localhost:8080/",
          "height": 265
        },
        "id": "t0QmnyhQjTNA",
        "outputId": "6d10ac11-ef2d-48f6-de2c-4b72ec19c6d3"
      },
      "execution_count": 8,
      "outputs": [
        {
          "output_type": "display_data",
          "data": {
            "text/plain": [
              "<Figure size 432x288 with 1 Axes>"
            ],
            "image/png": "[encoded data removed]"
          },
          "metadata": {
            "needs_background": "light"
          }
        }
      ]
    },
    {
      "cell_type": "markdown",
      "source": [
        "Ocenić model\n",
        "$$\n",
        "Q(\\mathbf{a}) = \\sqrt{\\frac{1}{N}\\sum_{i=1}^N (y_i - \\overline{y}_i)^2}\n",
        "$$"
      ],
      "metadata": {
        "id": "0gwMXSvimI66"
      }
    },
    {
      "cell_type": "markdown",
      "source": [
        "To na dole jest źle, bo naszą intencją jest ocena jakości modelu na danych nowych"
      ],
      "metadata": {
        "id": "KRFDJd_NptFu"
      }
    },
    {
      "cell_type": "code",
      "source": [
        "x_data\n",
        "y_pred = linreg.predict(x_data.reshape(-1,1))"
      ],
      "metadata": {
        "id": "a5QpoRlQlnF4"
      },
      "execution_count": 9,
      "outputs": []
    },
    {
      "cell_type": "code",
      "source": [
        "print(f'MSE = {np.sqrt(((y_data - y_pred)**2).mean()):0.4f}')\n",
        "\n",
        "# co jest dobrym modelem odniesienia dla oceny jakości modelu liniowego?"
      ],
      "metadata": {
        "colab": {
          "base_uri": "https://localhost:8080/"
        },
        "id": "169I8-xVmNcM",
        "outputId": "355d2ee4-857d-4280-c605-282e2a5fb04e"
      },
      "execution_count": 10,
      "outputs": [
        {
          "output_type": "stream",
          "name": "stdout",
          "text": [
            "MSE = 9.8784\n"
          ]
        }
      ]
    },
    {
      "cell_type": "code",
      "source": [
        "from sklearn.metrics import mean_squared_error\n",
        "print(f'MSE = {mean_squared_error(y_data, y_pred):0.4f}')\n",
        "print(f'MSE_nasze = {np.sqrt(((y_data - y_pred)**2).mean()):0.4f}')"
      ],
      "metadata": {
        "colab": {
          "base_uri": "https://localhost:8080/"
        },
        "id": "o3eIiV81m0HW",
        "outputId": "0779c9d8-19f1-40a7-dd94-fd6678c7df2d"
      },
      "execution_count": 11,
      "outputs": [
        {
          "output_type": "stream",
          "name": "stdout",
          "text": [
            "MSE = 23.9437\n",
            "MSE_nasze = 9.8784\n"
          ]
        }
      ]
    },
    {
      "cell_type": "code",
      "source": [
        "x_data.size"
      ],
      "metadata": {
        "colab": {
          "base_uri": "https://localhost:8080/"
        },
        "id": "36eqrVItnekn",
        "outputId": "93ece85b-9d98-4b5b-db2e-bc5711b2dd6d"
      },
      "execution_count": 12,
      "outputs": [
        {
          "output_type": "execute_result",
          "data": {
            "text/plain": [
              "392"
            ]
          },
          "metadata": {},
          "execution_count": 12
        }
      ]
    },
    {
      "cell_type": "code",
      "source": [
        "y_true = np.array([3, -0.5, 2, 7])\n",
        "y_pred = np.array([2.5, 0.0, 2, 8])\n",
        "mean_squared_error(y_true, y_pred, squared=False)"
      ],
      "metadata": {
        "colab": {
          "base_uri": "https://localhost:8080/"
        },
        "id": "0tKjpgvloCWB",
        "outputId": "e592bf63-1867-4fa0-d84c-0b1ff678b55b"
      },
      "execution_count": 13,
      "outputs": [
        {
          "output_type": "execute_result",
          "data": {
            "text/plain": [
              "0.6123724356957945"
            ]
          },
          "metadata": {},
          "execution_count": 13
        }
      ]
    },
    {
      "cell_type": "code",
      "source": [
        "np.sqrt(((y_true-y_pred)**2).mean())"
      ],
      "metadata": {
        "colab": {
          "base_uri": "https://localhost:8080/"
        },
        "id": "Yd9LcPZcoU4h",
        "outputId": "4818d18a-260a-4c4d-ae03-dd135397cf76"
      },
      "execution_count": 14,
      "outputs": [
        {
          "output_type": "execute_result",
          "data": {
            "text/plain": [
              "0.6123724356957945"
            ]
          },
          "metadata": {},
          "execution_count": 14
        }
      ]
    },
    {
      "cell_type": "markdown",
      "source": [
        "A teraz jest lepiej, bo \"zasymulujemy\" sobie pojawienie się nowych danych"
      ],
      "metadata": {
        "id": "qbE9rBGFqCDI"
      }
    },
    {
      "cell_type": "code",
      "source": [
        "x_data = df['horsepower'].to_numpy()\n",
        "y_data = df['mpg'].to_numpy()"
      ],
      "metadata": {
        "id": "5iduAS12ocZh"
      },
      "execution_count": 15,
      "outputs": []
    },
    {
      "cell_type": "code",
      "source": [
        "from sklearn.model_selection import train_test_split\n",
        "x_train, x_test, y_train, y_test = train_test_split(x_data, y_data)\n",
        "\n",
        "linreg = LinearRegression().fit(x_train.reshape(-1,1),y_train.reshape(-1,1))\n",
        "y_test_pred = linreg.predict(x_test.reshape(-1,1))\n",
        "y_train_pred = linreg.predict(x_train.reshape(-1,1))\n",
        "\n",
        "plt.scatter(x_train, y_train, color='black', marker='.', label='dane do uczenia')\n",
        "plt.scatter(x_test, y_test, color='tab:red', marker='.', label='dane do testowania')\n",
        "plt.plot(x_test, y_test_pred, color='tab:orange', linewidth=3, label='model liniowy')\n",
        "plt.show()\n",
        "\n",
        "print(f'MSE_nasze test = {np.sqrt(((y_test - y_test_pred)**2).mean()):0.4f}')\n",
        "print(f'MSE_nasze train = {np.sqrt(((y_train - y_train_pred)**2).mean()):0.4f}')"
      ],
      "metadata": {
        "colab": {
          "base_uri": "https://localhost:8080/",
          "height": 300
        },
        "id": "HdbMDcJUqSg5",
        "outputId": "ea8a3791-00ff-4a0c-a9d1-b8e320df4932"
      },
      "execution_count": 16,
      "outputs": [
        {
          "output_type": "display_data",
          "data": {
            "text/plain": [
              "<Figure size 432x288 with 1 Axes>"
            ],
            "image/png": "[encoded data removed]"
          },
          "metadata": {
            "needs_background": "light"
          }
        },
        {
          "output_type": "stream",
          "name": "stdout",
          "text": [
            "MSE_nasze test = 10.1251\n",
            "MSE_nasze train = 9.7497\n"
          ]
        }
      ]
    },
    {
      "cell_type": "code",
      "source": [],
      "metadata": {
        "id": "oZZ6zdWVMdfQ"
      },
      "execution_count": null,
      "outputs": []
    },
    {
      "cell_type": "markdown",
      "source": [
        "Zadanie domowe: wytrenuj inny model, np. maszynę wektorów wspierających ([SVR](https://scikit-learn.org/stable/modules/generated/sklearn.svm.SVR.html)), drzewo decyzyjne ([DecisionTreeRegresor](https://scikit-learn.org/stable/modules/generated/sklearn.tree.DecisionTreeRegressor.html)) itp.\n",
        "\n",
        "Wkomponuj nowy kod do powyższego kodu.\n",
        "\n",
        "Zastanów się, który ze zbadanych modeli byłby najlepszy, posługując się wizualną oceną predykcji modelu oraz wartościami błędów średniokwadratowych."
      ],
      "metadata": {
        "id": "DH1ilmUo4B6F"
      }
    },
    {
      "cell_type": "code",
      "source": [
        "from sklearn.svm import SVR\n",
        "\n",
        "clf = SVR(kernel='linear')\n",
        "clf.fit(x_train.reshape(-1,1), y_train.reshape(-1,1))\n",
        "\n",
        "y_prediction = clf.predict(x_test.reshape(-1, 1))"
      ],
      "metadata": {
        "id": "oHjZFLKDsZrY",
        "outputId": "a8710dda-f64a-449e-f501-9b7aa73a152a",
        "colab": {
          "base_uri": "https://localhost:8080/"
        }
      },
      "execution_count": 20,
      "outputs": [
        {
          "output_type": "stream",
          "name": "stderr",
          "text": [
            "/usr/local/lib/python3.8/dist-packages/sklearn/utils/validation.py:993: DataConversionWarning: A column-vector y was passed when a 1d array was expected. Please change the shape of y to (n_samples, ), for example using ravel().\n",
            "  y = column_or_1d(y, warn=True)\n"
          ]
        }
      ]
    },
    {
      "cell_type": "code",
      "source": [
        "print(f'MSE_nasze test = {np.sqrt(((y_test - y_prediction)**2).mean()):0.4f}')"
      ],
      "metadata": {
        "id": "11nDziekMeNn",
        "outputId": "eb0adce8-6604-44a6-9c44-2ecc60ed3d07",
        "colab": {
          "base_uri": "https://localhost:8080/"
        }
      },
      "execution_count": 21,
      "outputs": [
        {
          "output_type": "stream",
          "name": "stdout",
          "text": [
            "MSE_nasze test = 5.2328\n"
          ]
        }
      ]
    },
    {
      "cell_type": "code",
      "source": [
        "y_prediction = clf.predict(x_train.reshape(-1, 1))\n",
        "print(f'MSE_nasze test = {np.sqrt(((y_train - y_prediction)**2).mean()):0.4f}')"
      ],
      "metadata": {
        "id": "7XDHWkU6PRa7",
        "outputId": "d6616ae5-4cc6-46a5-dbb7-30258dc52f79",
        "colab": {
          "base_uri": "https://localhost:8080/"
        }
      },
      "execution_count": 22,
      "outputs": [
        {
          "output_type": "stream",
          "name": "stdout",
          "text": [
            "MSE_nasze test = 4.7899\n"
          ]
        }
      ]
    }
  ]
}